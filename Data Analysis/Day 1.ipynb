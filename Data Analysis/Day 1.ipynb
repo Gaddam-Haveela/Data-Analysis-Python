{
 "cells": [
  {
   "cell_type": "markdown",
   "metadata": {},
   "source": [
    "# **DAY 1**"
   ]
  },
  {
   "cell_type": "markdown",
   "metadata": {},
   "source": [
    "**JUPYTER NOTEBOOK:**  \n",
    "- ***Browser based notebook***  \n",
    "- ***Two modes:***  \n",
    "***1.markdown-->m***  \n",
    "***2.code---->y***  \n"
   ]
  },
  {
   "cell_type": "markdown",
   "metadata": {},
   "source": [
    "## **INTRODUCTION TO DATA TYPES**"
   ]
  },
  {
   "cell_type": "markdown",
   "metadata": {},
   "source": [
    "### USAGE OF:  \n",
    "**Bold**  \n",
    "*Italic*  \n",
    "***Bold Italic***"
   ]
  },
  {
   "cell_type": "markdown",
   "metadata": {},
   "source": [
    "### Unordered list\n",
    "- Engineering colleges\n",
    "    + KITS\n",
    "    + SRM\n",
    "    + KLU\n",
    "+ Degree colleges"
   ]
  },
  {
   "cell_type": "markdown",
   "metadata": {},
   "source": [
    "### Ordered list  \n",
    "1.Numpy  \n",
    "2.Pandas  \n",
    "    a.series  \n",
    "    b.dataframe"
   ]
  },
  {
   "cell_type": "markdown",
   "metadata": {},
   "source": [
    "### Link\n",
    "[click here](https://github.com/)"
   ]
  },
  {
   "cell_type": "markdown",
   "metadata": {},
   "source": [
    "### Image\n",
    "![image] (https://arogozhnikov.github.io/images/jupyter/example-notebook.png)"
   ]
  }
 ],
 "metadata": {
  "kernelspec": {
   "display_name": "Python 3",
   "language": "python",
   "name": "python3"
  },
  "language_info": {
   "codemirror_mode": {
    "name": "ipython",
    "version": 3
   },
   "file_extension": ".py",
   "mimetype": "text/x-python",
   "name": "python",
   "nbconvert_exporter": "python",
   "pygments_lexer": "ipython3",
   "version": "3.8.3"
  }
 },
 "nbformat": 4,
 "nbformat_minor": 4
}
